{
 "cells": [
  {
   "cell_type": "code",
   "execution_count": 11,
   "metadata": {},
   "outputs": [
    {
     "name": "stdout",
     "output_type": "stream",
     "text": [
      "Note: you may need to restart the kernel to use updated packages.\n"
     ]
    },
    {
     "name": "stderr",
     "output_type": "stream",
     "text": [
      "ERROR: Could not find a version that satisfies the requirement sqlite3 (from versions: none)\n",
      "ERROR: No matching distribution found for sqlite3\n"
     ]
    }
   ],
   "source": [
    "%pip install sqlite3 sentence_transformers numpy"
   ]
  },
  {
   "cell_type": "code",
   "execution_count": 15,
   "metadata": {},
   "outputs": [],
   "source": [
    "import sqlite3\n",
    "from sentence_transformers import SentenceTransformer\n",
    "import numpy as np\n",
    "\n",
    "# Connect to the SQLite database\n",
    "conn = sqlite3.connect('scriptures.db')\n",
    "cursor = conn.cursor()\n",
    "\n",
    "# Create the verse_chunks table if it doesn't exist\n",
    "cursor.execute('''\n",
    "CREATE TABLE IF NOT EXISTS verse_chunks (\n",
    "    id INTEGER PRIMARY KEY,\n",
    "    verse_id INTEGER REFERENCES verses(id) ON DELETE CASCADE,\n",
    "    chunk_text TEXT,\n",
    "    embedding BLOB\n",
    ")\n",
    "''')\n",
    "\n",
    "# Load the embedding model\n",
    "model = SentenceTransformer('TaylorAI/bge-micro-v2')\n",
    "\n",
    "# Function to chunk text into smaller pieces\n",
    "def chunk_text(text, max_length=32):\n",
    "    words = text.split()\n",
    "    return [' '.join(words[i:i + max_length]) for i in range(0, len(words), max_length)]\n",
    "\n",
    "# Fetch all verses\n",
    "cursor.execute(\"SELECT id, scripture_text FROM verses\")\n",
    "verses = cursor.fetchall()\n",
    "\n",
    "# Process each verse\n",
    "for verse_id, scripture_text in verses:\n",
    "    chunks = chunk_text(scripture_text)\n",
    "    for chunk in chunks:\n",
    "        embedding = model.encode(chunk)\n",
    "        embedding_blob = sqlite3.Binary(np.array(embedding).tobytes())\n",
    "        \n",
    "        # Insert chunk and embedding into the database\n",
    "        cursor.execute(\"INSERT INTO verse_chunks (verse_id, chunk_text, embedding) VALUES (?, ?, ?)\", \n",
    "                       (verse_id, chunk, embedding_blob))\n",
    "\n",
    "# Commit the changes and close the connection\n",
    "conn.commit()\n",
    "conn.close()\n"
   ]
  },
  {
   "cell_type": "code",
   "execution_count": 16,
   "metadata": {},
   "outputs": [],
   "source": [
    "import sqlite3\n",
    "from sentence_transformers import SentenceTransformer\n",
    "import numpy as np\n",
    "\n",
    "# Connect to the SQLite database\n",
    "conn = sqlite3.connect('scriptures.db')\n",
    "cursor = conn.cursor()\n",
    "\n",
    "# Create the verse_chunks table if it doesn't exist\n",
    "cursor.execute('''\n",
    "CREATE TABLE IF NOT EXISTS verse_chunks (\n",
    "    id INTEGER PRIMARY KEY,\n",
    "    verse_id INTEGER REFERENCES verses(id) ON DELETE CASCADE,\n",
    "    chunk_text TEXT,\n",
    "    embedding BLOB\n",
    ")\n",
    "''')\n",
    "\n",
    "# Load the embedding model\n",
    "model = SentenceTransformer('TaylorAI/bge-micro-v2')\n",
    "\n",
    "# Function to chunk text into overlapping pieces\n",
    "def chunk_text(text, max_length=32, overlap=16):\n",
    "    words = text.split()\n",
    "    chunks = []\n",
    "    for i in range(0, len(words), max_length - overlap):\n",
    "        chunk = ' '.join(words[i:i + max_length])\n",
    "        if chunk:\n",
    "            chunks.append(chunk)\n",
    "    return chunks\n",
    "\n",
    "# Fetch all verses\n",
    "cursor.execute(\"SELECT id, scripture_text FROM verses\")\n",
    "verses = cursor.fetchall()\n",
    "\n",
    "# Process each verse\n",
    "for verse_id, scripture_text in verses:\n",
    "    chunks = chunk_text(scripture_text)\n",
    "    for chunk in chunks:\n",
    "        embedding = model.encode(chunk)\n",
    "        embedding_blob = sqlite3.Binary(np.array(embedding).tobytes())\n",
    "        \n",
    "        # Insert chunk and embedding into the database\n",
    "        cursor.execute(\"INSERT INTO verse_chunks (verse_id, chunk_text, embedding) VALUES (?, ?, ?)\", \n",
    "                       (verse_id, chunk, embedding_blob))\n",
    "\n",
    "# Commit the changes and close the connection\n",
    "conn.commit()\n",
    "conn.close()\n"
   ]
  }
 ],
 "metadata": {
  "kernelspec": {
   "display_name": ".venv",
   "language": "python",
   "name": "python3"
  },
  "language_info": {
   "codemirror_mode": {
    "name": "ipython",
    "version": 3
   },
   "file_extension": ".py",
   "mimetype": "text/x-python",
   "name": "python",
   "nbconvert_exporter": "python",
   "pygments_lexer": "ipython3",
   "version": "3.12.3"
  }
 },
 "nbformat": 4,
 "nbformat_minor": 2
}
